{
 "cells": [
  {
   "cell_type": "code",
   "execution_count": 1,
   "id": "b67d4da7-5b63-4fea-a761-737e63f1aaf6",
   "metadata": {
    "tags": []
   },
   "outputs": [
    {
     "name": "stdout",
     "output_type": "stream",
     "text": [
      "Collecting streamlit\n",
      "  Obtaining dependency information for streamlit from https://files.pythonhosted.org/packages/a9/56/b6879cab429dd9d907d624766e049ee286219751e3cd8611ebdf7fb66cc5/streamlit-1.32.1-py2.py3-none-any.whl.metadata\n",
      "  Downloading streamlit-1.32.1-py2.py3-none-any.whl.metadata (8.5 kB)\n",
      "Collecting altair<6,>=4.0 (from streamlit)\n",
      "  Obtaining dependency information for altair<6,>=4.0 from https://files.pythonhosted.org/packages/c5/e4/7fcceef127badbb0d644d730d992410e4f3799b295c9964a172f92a469c7/altair-5.2.0-py3-none-any.whl.metadata\n",
      "  Downloading altair-5.2.0-py3-none-any.whl.metadata (8.7 kB)\n",
      "Requirement already satisfied: blinker<2,>=1.0.0 in c:\\users\\91944\\anaconda3\\lib\\site-packages (from streamlit) (1.7.0)\n",
      "Requirement already satisfied: cachetools<6,>=4.0 in c:\\users\\91944\\anaconda3\\lib\\site-packages (from streamlit) (5.3.3)\n",
      "Requirement already satisfied: click<9,>=7.0 in c:\\users\\91944\\anaconda3\\lib\\site-packages (from streamlit) (8.1.7)\n",
      "Requirement already satisfied: numpy<2,>=1.19.3 in c:\\users\\91944\\anaconda3\\lib\\site-packages (from streamlit) (1.23.5)\n",
      "Requirement already satisfied: packaging<24,>=16.8 in c:\\users\\91944\\anaconda3\\lib\\site-packages (from streamlit) (23.1)\n",
      "Requirement already satisfied: pandas<3,>=1.3.0 in c:\\users\\91944\\anaconda3\\lib\\site-packages (from streamlit) (1.5.3)\n",
      "Requirement already satisfied: pillow<11,>=7.1.0 in c:\\users\\91944\\anaconda3\\lib\\site-packages (from streamlit) (10.2.0)\n",
      "Requirement already satisfied: protobuf<5,>=3.20 in c:\\users\\91944\\anaconda3\\lib\\site-packages (from streamlit) (4.25.3)\n",
      "Requirement already satisfied: pyarrow>=7.0 in c:\\users\\91944\\anaconda3\\lib\\site-packages (from streamlit) (11.0.0)\n",
      "Requirement already satisfied: requests<3,>=2.27 in c:\\users\\91944\\anaconda3\\lib\\site-packages (from streamlit) (2.31.0)\n",
      "Requirement already satisfied: rich<14,>=10.14.0 in c:\\users\\91944\\anaconda3\\lib\\site-packages (from streamlit) (13.7.1)\n",
      "Requirement already satisfied: tenacity<9,>=8.1.0 in c:\\users\\91944\\anaconda3\\lib\\site-packages (from streamlit) (8.2.2)\n",
      "Requirement already satisfied: toml<2,>=0.10.1 in c:\\users\\91944\\anaconda3\\lib\\site-packages (from streamlit) (0.10.2)\n",
      "Requirement already satisfied: typing-extensions<5,>=4.3.0 in c:\\users\\91944\\anaconda3\\lib\\site-packages (from streamlit) (4.9.0)\n",
      "Requirement already satisfied: gitpython!=3.1.19,<4,>=3.0.7 in c:\\users\\91944\\anaconda3\\lib\\site-packages (from streamlit) (3.1.42)\n",
      "Collecting pydeck<1,>=0.8.0b4 (from streamlit)\n",
      "  Obtaining dependency information for pydeck<1,>=0.8.0b4 from https://files.pythonhosted.org/packages/10/4b/2fc80540e2d3903452245bb657c7f758ec7342420507d1e4091b0161856e/pydeck-0.8.1b0-py2.py3-none-any.whl.metadata\n",
      "  Downloading pydeck-0.8.1b0-py2.py3-none-any.whl.metadata (3.9 kB)\n",
      "Requirement already satisfied: tornado<7,>=6.0.3 in c:\\users\\91944\\anaconda3\\lib\\site-packages (from streamlit) (6.3.2)\n",
      "Requirement already satisfied: watchdog>=2.1.5 in c:\\users\\91944\\anaconda3\\lib\\site-packages (from streamlit) (2.1.6)\n",
      "Requirement already satisfied: jinja2 in c:\\users\\91944\\anaconda3\\lib\\site-packages (from altair<6,>=4.0->streamlit) (3.1.2)\n",
      "Requirement already satisfied: jsonschema>=3.0 in c:\\users\\91944\\anaconda3\\lib\\site-packages (from altair<6,>=4.0->streamlit) (4.17.3)\n",
      "Requirement already satisfied: toolz in c:\\users\\91944\\anaconda3\\lib\\site-packages (from altair<6,>=4.0->streamlit) (0.12.0)\n",
      "Requirement already satisfied: colorama in c:\\users\\91944\\anaconda3\\lib\\site-packages (from click<9,>=7.0->streamlit) (0.4.6)\n",
      "Requirement already satisfied: gitdb<5,>=4.0.1 in c:\\users\\91944\\anaconda3\\lib\\site-packages (from gitpython!=3.1.19,<4,>=3.0.7->streamlit) (4.0.11)\n",
      "Requirement already satisfied: python-dateutil>=2.8.1 in c:\\users\\91944\\anaconda3\\lib\\site-packages (from pandas<3,>=1.3.0->streamlit) (2.8.2)\n",
      "Requirement already satisfied: pytz>=2020.1 in c:\\users\\91944\\anaconda3\\lib\\site-packages (from pandas<3,>=1.3.0->streamlit) (2022.7.1)\n",
      "Requirement already satisfied: charset-normalizer<4,>=2 in c:\\users\\91944\\anaconda3\\lib\\site-packages (from requests<3,>=2.27->streamlit) (2.0.4)\n",
      "Requirement already satisfied: idna<4,>=2.5 in c:\\users\\91944\\anaconda3\\lib\\site-packages (from requests<3,>=2.27->streamlit) (3.4)\n",
      "Requirement already satisfied: urllib3<3,>=1.21.1 in c:\\users\\91944\\anaconda3\\lib\\site-packages (from requests<3,>=2.27->streamlit) (1.26.16)\n",
      "Requirement already satisfied: certifi>=2017.4.17 in c:\\users\\91944\\anaconda3\\lib\\site-packages (from requests<3,>=2.27->streamlit) (2024.2.2)\n",
      "Requirement already satisfied: markdown-it-py>=2.2.0 in c:\\users\\91944\\anaconda3\\lib\\site-packages (from rich<14,>=10.14.0->streamlit) (2.2.0)\n",
      "Requirement already satisfied: pygments<3.0.0,>=2.13.0 in c:\\users\\91944\\anaconda3\\lib\\site-packages (from rich<14,>=10.14.0->streamlit) (2.15.1)\n",
      "Requirement already satisfied: smmap<6,>=3.0.1 in c:\\users\\91944\\anaconda3\\lib\\site-packages (from gitdb<5,>=4.0.1->gitpython!=3.1.19,<4,>=3.0.7->streamlit) (5.0.1)\n",
      "Requirement already satisfied: MarkupSafe>=2.0 in c:\\users\\91944\\anaconda3\\lib\\site-packages (from jinja2->altair<6,>=4.0->streamlit) (2.1.1)\n",
      "Requirement already satisfied: attrs>=17.4.0 in c:\\users\\91944\\anaconda3\\lib\\site-packages (from jsonschema>=3.0->altair<6,>=4.0->streamlit) (22.1.0)\n",
      "Requirement already satisfied: pyrsistent!=0.17.0,!=0.17.1,!=0.17.2,>=0.14.0 in c:\\users\\91944\\anaconda3\\lib\\site-packages (from jsonschema>=3.0->altair<6,>=4.0->streamlit) (0.18.0)\n",
      "Requirement already satisfied: mdurl~=0.1 in c:\\users\\91944\\anaconda3\\lib\\site-packages (from markdown-it-py>=2.2.0->rich<14,>=10.14.0->streamlit) (0.1.0)\n",
      "Requirement already satisfied: six>=1.5 in c:\\users\\91944\\anaconda3\\lib\\site-packages (from python-dateutil>=2.8.1->pandas<3,>=1.3.0->streamlit) (1.16.0)\n",
      "Downloading streamlit-1.32.1-py2.py3-none-any.whl (8.1 MB)\n",
      "   ---------------------------------------- 0.0/8.1 MB ? eta -:--:--\n",
      "   - -------------------------------------- 0.3/8.1 MB 8.9 MB/s eta 0:00:01\n",
      "   ---- ----------------------------------- 0.8/8.1 MB 8.8 MB/s eta 0:00:01\n",
      "   ------- -------------------------------- 1.6/8.1 MB 11.3 MB/s eta 0:00:01\n",
      "   --------- ------------------------------ 2.0/8.1 MB 10.6 MB/s eta 0:00:01\n",
      "   ---------- ----------------------------- 2.2/8.1 MB 10.1 MB/s eta 0:00:01\n",
      "   ----------- ---------------------------- 2.4/8.1 MB 8.4 MB/s eta 0:00:01\n",
      "   ------------ --------------------------- 2.5/8.1 MB 7.6 MB/s eta 0:00:01\n",
      "   ------------- -------------------------- 2.7/8.1 MB 7.1 MB/s eta 0:00:01\n",
      "   ------------- -------------------------- 2.8/8.1 MB 6.7 MB/s eta 0:00:01\n",
      "   -------------- ------------------------- 3.0/8.1 MB 6.4 MB/s eta 0:00:01\n",
      "   --------------- ------------------------ 3.1/8.1 MB 6.1 MB/s eta 0:00:01\n",
      "   ---------------- ----------------------- 3.4/8.1 MB 6.0 MB/s eta 0:00:01\n",
      "   ----------------- ---------------------- 3.6/8.1 MB 5.8 MB/s eta 0:00:01\n",
      "   ------------------ --------------------- 3.7/8.1 MB 5.8 MB/s eta 0:00:01\n",
      "   ------------------- -------------------- 4.0/8.1 MB 5.7 MB/s eta 0:00:01\n",
      "   -------------------- ------------------- 4.2/8.1 MB 5.4 MB/s eta 0:00:01\n",
      "   ---------------------- ----------------- 4.5/8.1 MB 5.5 MB/s eta 0:00:01\n",
      "   ----------------------- ---------------- 4.7/8.1 MB 5.5 MB/s eta 0:00:01\n",
      "   ------------------------ --------------- 5.0/8.1 MB 5.4 MB/s eta 0:00:01\n",
      "   ------------------------- -------------- 5.2/8.1 MB 5.4 MB/s eta 0:00:01\n",
      "   --------------------------- ------------ 5.5/8.1 MB 5.5 MB/s eta 0:00:01\n",
      "   ---------------------------- ----------- 5.8/8.1 MB 5.6 MB/s eta 0:00:01\n",
      "   ------------------------------ --------- 6.1/8.1 MB 5.5 MB/s eta 0:00:01\n",
      "   ------------------------------- -------- 6.5/8.1 MB 5.7 MB/s eta 0:00:01\n",
      "   ---------------------------------- ----- 6.9/8.1 MB 5.7 MB/s eta 0:00:01\n",
      "   ------------------------------------ --- 7.3/8.1 MB 5.9 MB/s eta 0:00:01\n",
      "   ------------------------------------- -- 7.6/8.1 MB 5.9 MB/s eta 0:00:01\n",
      "   ---------------------------------------  8.0/8.1 MB 5.9 MB/s eta 0:00:01\n",
      "   ---------------------------------------  8.1/8.1 MB 6.0 MB/s eta 0:00:01\n",
      "   ---------------------------------------- 8.1/8.1 MB 5.8 MB/s eta 0:00:00\n",
      "Downloading altair-5.2.0-py3-none-any.whl (996 kB)\n",
      "   ---------------------------------------- 0.0/996.9 kB ? eta -:--:--\n",
      "   --------------- ----------------------- 399.4/996.9 kB 12.6 MB/s eta 0:00:01\n",
      "   --------------------------------------  983.0/996.9 kB 10.3 MB/s eta 0:00:01\n",
      "   ---------------------------------------- 996.9/996.9 kB 7.0 MB/s eta 0:00:00\n",
      "Downloading pydeck-0.8.1b0-py2.py3-none-any.whl (4.8 MB)\n",
      "   ---------------------------------------- 0.0/4.8 MB ? eta -:--:--\n",
      "   ---- ----------------------------------- 0.6/4.8 MB 12.0 MB/s eta 0:00:01\n",
      "   ------- -------------------------------- 0.9/4.8 MB 9.3 MB/s eta 0:00:01\n",
      "   ----------- ---------------------------- 1.4/4.8 MB 9.6 MB/s eta 0:00:01\n",
      "   --------------- ------------------------ 1.8/4.8 MB 9.6 MB/s eta 0:00:01\n",
      "   ------------------ --------------------- 2.2/4.8 MB 9.5 MB/s eta 0:00:01\n",
      "   -------------------- ------------------- 2.5/4.8 MB 8.2 MB/s eta 0:00:01\n",
      "   --------------------- ------------------ 2.6/4.8 MB 7.9 MB/s eta 0:00:01\n",
      "   ------------------------ --------------- 2.9/4.8 MB 7.4 MB/s eta 0:00:01\n",
      "   ------------------------- -------------- 3.0/4.8 MB 6.9 MB/s eta 0:00:01\n",
      "   -------------------------- ------------- 3.2/4.8 MB 6.4 MB/s eta 0:00:01\n",
      "   ---------------------------- ----------- 3.4/4.8 MB 6.5 MB/s eta 0:00:01\n",
      "   ------------------------------- -------- 3.7/4.8 MB 6.4 MB/s eta 0:00:01\n",
      "   --------------------------------- ------ 4.0/4.8 MB 6.2 MB/s eta 0:00:01\n",
      "   ----------------------------------- ---- 4.3/4.8 MB 6.4 MB/s eta 0:00:01\n",
      "   -------------------------------------- - 4.6/4.8 MB 6.3 MB/s eta 0:00:01\n",
      "   ---------------------------------------  4.8/4.8 MB 6.3 MB/s eta 0:00:01\n",
      "   ---------------------------------------- 4.8/4.8 MB 5.9 MB/s eta 0:00:00\n",
      "Installing collected packages: pydeck, altair, streamlit\n",
      "Successfully installed altair-5.2.0 pydeck-0.8.1b0 streamlit-1.32.1\n"
     ]
    }
   ],
   "source": [
    "!pip install streamlit"
   ]
  },
  {
   "cell_type": "code",
   "execution_count": null,
   "id": "4e71e328-bb2b-4d83-bc0d-ee00bf8654e0",
   "metadata": {
    "tags": []
   },
   "outputs": [],
   "source": [
    "!streamlit run main.py"
   ]
  },
  {
   "cell_type": "code",
   "execution_count": null,
   "id": "0ec6048d-cfd4-47b7-a3e7-e12661fa75f2",
   "metadata": {},
   "outputs": [],
   "source": []
  }
 ],
 "metadata": {
  "kernelspec": {
   "display_name": "Python 3 (ipykernel)",
   "language": "python",
   "name": "python3"
  },
  "language_info": {
   "codemirror_mode": {
    "name": "ipython",
    "version": 3
   },
   "file_extension": ".py",
   "mimetype": "text/x-python",
   "name": "python",
   "nbconvert_exporter": "python",
   "pygments_lexer": "ipython3",
   "version": "3.11.5"
  }
 },
 "nbformat": 4,
 "nbformat_minor": 5
}
