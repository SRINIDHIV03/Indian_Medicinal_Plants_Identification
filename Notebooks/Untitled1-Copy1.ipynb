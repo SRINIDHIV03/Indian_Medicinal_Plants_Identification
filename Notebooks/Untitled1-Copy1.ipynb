{
 "cells": [
  {
   "cell_type": "code",
   "execution_count": 1,
   "id": "b0974d6a",
   "metadata": {},
   "outputs": [
    {
     "name": "stderr",
     "output_type": "stream",
     "text": [
      "C:\\Users\\91944\\anaconda3\\Lib\\site-packages\\pandas\\core\\arrays\\masked.py:60: UserWarning: Pandas requires version '1.3.6' or newer of 'bottleneck' (version '1.3.5' currently installed).\n",
      "  from pandas.core import (\n"
     ]
    }
   ],
   "source": [
    "import os\n",
    "import cv2\n",
    "import numpy as np\n",
    "import pandas as pd\n",
    "import mahotas as mt"
   ]
  },
  {
   "cell_type": "code",
   "execution_count": 2,
   "id": "2622d58f",
   "metadata": {},
   "outputs": [],
   "source": [
    "def extract_features_from_directory(root_dir):\n",
    "    # Define the column names for the dataframe\n",
    "    names = ['area', 'perimeter', 'physiological_length', 'physiological_width', 'aspect_ratio', \n",
    "             'rectangularity', 'circularity', 'mean_r', 'mean_g', 'mean_b', 'stddev_r', 'stddev_g', 'stddev_b', \n",
    "             'contrast', 'correlation', 'inverse_difference_moments', 'entropy', 'leaf_name']\n",
    "    \n",
    "    # Create an empty list to store feature vectors\n",
    "    data = []\n",
    "    \n",
    "    # Loop through all subdirectories in the root directory\n",
    "    for subdir in os.listdir(root_dir):\n",
    "        subdir_path = os.path.join(root_dir, subdir)\n",
    "        \n",
    "        # Skip if it's not a directory\n",
    "        if not os.path.isdir(subdir_path):\n",
    "            continue\n",
    "        \n",
    "        print(\"Processing images in:\", subdir)\n",
    "        \n",
    "        # Loop through all image files in the subdirectory\n",
    "        for filename in os.listdir(subdir_path):\n",
    "            if filename.endswith('.jpg') or filename.endswith('.jpeg') or filename.endswith('.png'):\n",
    "                imgpath = os.path.join(subdir_path, filename)\n",
    "                main_img = cv2.imread(imgpath)\n",
    "                \n",
    "                # Preprocessing\n",
    "                img = cv2.cvtColor(main_img, cv2.COLOR_BGR2RGB)\n",
    "                gs = cv2.cvtColor(img, cv2.COLOR_RGB2GRAY)\n",
    "                blur = cv2.GaussianBlur(gs, (25, 25), 0)\n",
    "                ret_otsu, im_bw_otsu = cv2.threshold(blur, 0, 255, cv2.THRESH_BINARY_INV + cv2.THRESH_OTSU)\n",
    "                kernel = np.ones((50,50), np.uint8)\n",
    "                closing = cv2.morphologyEx(im_bw_otsu, cv2.MORPH_CLOSE, kernel)\n",
    "                \n",
    "                # Shape features\n",
    "                contours, _ = cv2.findContours(closing, cv2.RETR_TREE, cv2.CHAIN_APPROX_SIMPLE)\n",
    "                if len(contours) > 0:\n",
    "                    cnt = max(contours, key=cv2.contourArea)\n",
    "                    area = cv2.contourArea(cnt)\n",
    "                    if area == 0:\n",
    "                        continue  # Skip contours with zero area\n",
    "                    perimeter = cv2.arcLength(cnt, True)\n",
    "                    x, y, w, h = cv2.boundingRect(cnt)\n",
    "                    aspect_ratio = float(w) / h\n",
    "                    rectangularity = w * h / area\n",
    "                    circularity = ((perimeter) ** 2) / area\n",
    "                \n",
    "                    # Color features\n",
    "                    red_channel = img[:, :, 0]\n",
    "                    green_channel = img[:, :, 1]\n",
    "                    blue_channel = img[:, :, 2]\n",
    "                    blue_channel[blue_channel == 255] = 0\n",
    "                    green_channel[green_channel == 255] = 0\n",
    "                    red_channel[red_channel == 255] = 0\n",
    "\n",
    "                    red_mean = np.mean(red_channel)\n",
    "                    green_mean = np.mean(green_channel)\n",
    "                    blue_mean = np.mean(blue_channel)\n",
    "\n",
    "                    red_std = np.std(red_channel)\n",
    "                    green_std = np.std(green_channel)\n",
    "                    blue_std = np.std(blue_channel)\n",
    "\n",
    "                    # Texture features\n",
    "                    textures = mt.features.haralick(gs)\n",
    "                    ht_mean = textures.mean(axis=0)\n",
    "                    contrast = ht_mean[1]\n",
    "                    correlation = ht_mean[2]\n",
    "                    inverse_diff_moments = ht_mean[4]\n",
    "                    entropy = ht_mean[8]\n",
    "\n",
    "                    # Construct feature vector\n",
    "                    vector = [area, perimeter, w, h, aspect_ratio, rectangularity, circularity,\n",
    "                              red_mean, green_mean, blue_mean, red_std, green_std, blue_std,\n",
    "                              contrast, correlation, inverse_diff_moments, entropy, subdir]\n",
    "\n",
    "                    # Append the feature vector to the list\n",
    "                    data.append(vector)\n",
    "                \n",
    "    # Create a DataFrame from the list of feature vectors\n",
    "    df = pd.DataFrame(data, columns=names)\n",
    "    \n",
    "    return df"
   ]
  },
  {
   "cell_type": "code",
   "execution_count": 3,
   "id": "2ea6c401",
   "metadata": {},
   "outputs": [
    {
     "name": "stdout",
     "output_type": "stream",
     "text": [
      "Processing images in: Alpinia Galanga (Rasna)\n",
      "Processing images in: Amaranthus Viridis (Arive-Dantu)\n",
      "Processing images in: Artocarpus Heterophyllus (Jackfruit)\n",
      "Processing images in: Azadirachta Indica (Neem)\n",
      "Processing images in: Basella Alba (Basale)\n",
      "Processing images in: Brassica Juncea (Indian Mustard)\n",
      "Processing images in: Carissa Carandas (Karanda)\n",
      "Processing images in: Citrus Limon (Lemon)\n",
      "Processing images in: Ficus Auriculata (Roxburgh fig)\n",
      "Processing images in: Ficus Religiosa (Peepal Tree)\n",
      "Processing images in: Hibiscus Rosa-sinensis\n",
      "Processing images in: Jasminum (Jasmine)\n",
      "Processing images in: Mangifera Indica (Mango)\n",
      "Processing images in: Mentha (Mint)\n",
      "Processing images in: Moringa Oleifera (Drumstick)\n",
      "Processing images in: Muntingia Calabura (Jamaica Cherry-Gasagase)\n",
      "Processing images in: Murraya Koenigii (Curry)\n",
      "Processing images in: Nerium Oleander (Oleander)\n",
      "Processing images in: Nyctanthes Arbor-tristis (Parijata)\n",
      "Processing images in: Ocimum Tenuiflorum (Tulsi)\n",
      "Processing images in: Piper Betle (Betel)\n",
      "Processing images in: Plectranthus Amboinicus (Mexican Mint)\n",
      "Processing images in: Pongamia Pinnata (Indian Beech)\n",
      "Processing images in: Psidium Guajava (Guava)\n",
      "Processing images in: Punica Granatum (Pomegranate)\n",
      "Processing images in: Santalum Album (Sandalwood)\n",
      "Processing images in: Syzygium Cumini (Jamun)\n",
      "Processing images in: Syzygium Jambos (Rose Apple)\n",
      "Processing images in: Tabernaemontana Divaricata (Crape Jasmine)\n",
      "Processing images in: Trigonella Foenum-graecum (Fenugreek)\n"
     ]
    }
   ],
   "source": [
    "ds_path = \"../Medicinal Leaf Dataset/Segmented Medicinal Leaves\"\n",
    "\n",
    "# Extract features from the dataset\n",
    "dataset = extract_features_from_directory(ds_path)\n"
   ]
  },
  {
   "cell_type": "code",
   "execution_count": 4,
   "id": "149d2cc5",
   "metadata": {},
   "outputs": [],
   "source": [
    "dataset.to_csv(\"../Medicinal_leaf.csv\", index=False)"
   ]
  },
  {
   "cell_type": "code",
   "execution_count": null,
   "id": "ccea037f",
   "metadata": {},
   "outputs": [],
   "source": []
  }
 ],
 "metadata": {
  "kernelspec": {
   "display_name": "Python 3 (ipykernel)",
   "language": "python",
   "name": "python3"
  },
  "language_info": {
   "codemirror_mode": {
    "name": "ipython",
    "version": 3
   },
   "file_extension": ".py",
   "mimetype": "text/x-python",
   "name": "python",
   "nbconvert_exporter": "python",
   "pygments_lexer": "ipython3",
   "version": "3.11.5"
  }
 },
 "nbformat": 4,
 "nbformat_minor": 5
}
